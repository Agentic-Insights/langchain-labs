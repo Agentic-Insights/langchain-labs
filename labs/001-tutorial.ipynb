{
 "cells": [
  {
   "cell_type": "markdown",
   "metadata": {},
   "source": [
    "# LangChain Tutorial: Getting Started\n",
    "\n",
    "## Welcome to Your LangChain Journey!\n",
    "\n",
    "In this notebook, we'll explore LangChain, a powerful library for working with large language models. We'll start with the basics and progressively build more complex applications.\n",
    "\n",
    "Let's begin by setting up our environment and importing the necessary libraries.\n",
    "\n",
    "[![Open in Colab](https://colab.research.google.com/assets/colab-badge.svg)](https://colab.research.google.com/github/Agentic-Insights/langchain-labs/blob/main/labs/001-tutorial.ipynb)\n"
   ]
  },
  {
   "cell_type": "code",
   "execution_count": 1,
   "metadata": {},
   "outputs": [
    {
     "name": "stdout",
     "output_type": "stream",
     "text": [
      "Requirement already satisfied: langchain in c:\\users\\vaski\\desktop\\langchain-labs\\.conda\\lib\\site-packages (0.2.10)\n",
      "Requirement already satisfied: langchain-openai in c:\\users\\vaski\\desktop\\langchain-labs\\.conda\\lib\\site-packages (0.1.17)\n",
      "Requirement already satisfied: python-dotenv in c:\\users\\vaski\\desktop\\langchain-labs\\.conda\\lib\\site-packages (1.0.1)\n",
      "Requirement already satisfied: PyYAML>=5.3 in c:\\users\\vaski\\desktop\\langchain-labs\\.conda\\lib\\site-packages (from langchain) (6.0.1)\n",
      "Requirement already satisfied: SQLAlchemy<3,>=1.4 in c:\\users\\vaski\\desktop\\langchain-labs\\.conda\\lib\\site-packages (from langchain) (2.0.31)\n",
      "Requirement already satisfied: aiohttp<4.0.0,>=3.8.3 in c:\\users\\vaski\\desktop\\langchain-labs\\.conda\\lib\\site-packages (from langchain) (3.9.5)\n",
      "Requirement already satisfied: async-timeout<5.0.0,>=4.0.0 in c:\\users\\vaski\\desktop\\langchain-labs\\.conda\\lib\\site-packages (from langchain) (4.0.3)\n",
      "Requirement already satisfied: langchain-core<0.3.0,>=0.2.22 in c:\\users\\vaski\\desktop\\langchain-labs\\.conda\\lib\\site-packages (from langchain) (0.2.22)\n",
      "Requirement already satisfied: langchain-text-splitters<0.3.0,>=0.2.0 in c:\\users\\vaski\\desktop\\langchain-labs\\.conda\\lib\\site-packages (from langchain) (0.2.2)\n",
      "Requirement already satisfied: langsmith<0.2.0,>=0.1.17 in c:\\users\\vaski\\desktop\\langchain-labs\\.conda\\lib\\site-packages (from langchain) (0.1.93)\n",
      "Requirement already satisfied: numpy<2,>=1 in c:\\users\\vaski\\desktop\\langchain-labs\\.conda\\lib\\site-packages (from langchain) (1.26.4)\n",
      "Requirement already satisfied: pydantic<3,>=1 in c:\\users\\vaski\\desktop\\langchain-labs\\.conda\\lib\\site-packages (from langchain) (2.8.2)\n",
      "Requirement already satisfied: requests<3,>=2 in c:\\users\\vaski\\desktop\\langchain-labs\\.conda\\lib\\site-packages (from langchain) (2.32.3)\n",
      "Requirement already satisfied: tenacity!=8.4.0,<9.0.0,>=8.1.0 in c:\\users\\vaski\\desktop\\langchain-labs\\.conda\\lib\\site-packages (from langchain) (8.5.0)\n",
      "Requirement already satisfied: openai<2.0.0,>=1.32.0 in c:\\users\\vaski\\desktop\\langchain-labs\\.conda\\lib\\site-packages (from langchain-openai) (1.37.0)\n",
      "Requirement already satisfied: tiktoken<1,>=0.7 in c:\\users\\vaski\\desktop\\langchain-labs\\.conda\\lib\\site-packages (from langchain-openai) (0.7.0)\n",
      "Requirement already satisfied: aiosignal>=1.1.2 in c:\\users\\vaski\\desktop\\langchain-labs\\.conda\\lib\\site-packages (from aiohttp<4.0.0,>=3.8.3->langchain) (1.3.1)\n",
      "Requirement already satisfied: attrs>=17.3.0 in c:\\users\\vaski\\desktop\\langchain-labs\\.conda\\lib\\site-packages (from aiohttp<4.0.0,>=3.8.3->langchain) (23.2.0)\n",
      "Requirement already satisfied: frozenlist>=1.1.1 in c:\\users\\vaski\\desktop\\langchain-labs\\.conda\\lib\\site-packages (from aiohttp<4.0.0,>=3.8.3->langchain) (1.4.1)\n",
      "Requirement already satisfied: multidict<7.0,>=4.5 in c:\\users\\vaski\\desktop\\langchain-labs\\.conda\\lib\\site-packages (from aiohttp<4.0.0,>=3.8.3->langchain) (6.0.5)\n",
      "Requirement already satisfied: yarl<2.0,>=1.0 in c:\\users\\vaski\\desktop\\langchain-labs\\.conda\\lib\\site-packages (from aiohttp<4.0.0,>=3.8.3->langchain) (1.9.4)\n",
      "Requirement already satisfied: jsonpatch<2.0,>=1.33 in c:\\users\\vaski\\desktop\\langchain-labs\\.conda\\lib\\site-packages (from langchain-core<0.3.0,>=0.2.22->langchain) (1.33)\n",
      "Requirement already satisfied: packaging<25,>=23.2 in c:\\users\\vaski\\desktop\\langchain-labs\\.conda\\lib\\site-packages (from langchain-core<0.3.0,>=0.2.22->langchain) (23.2)\n",
      "Requirement already satisfied: orjson<4.0.0,>=3.9.14 in c:\\users\\vaski\\desktop\\langchain-labs\\.conda\\lib\\site-packages (from langsmith<0.2.0,>=0.1.17->langchain) (3.10.6)\n",
      "Requirement already satisfied: anyio<5,>=3.5.0 in c:\\users\\vaski\\desktop\\langchain-labs\\.conda\\lib\\site-packages (from openai<2.0.0,>=1.32.0->langchain-openai) (4.4.0)\n",
      "Requirement already satisfied: distro<2,>=1.7.0 in c:\\users\\vaski\\desktop\\langchain-labs\\.conda\\lib\\site-packages (from openai<2.0.0,>=1.32.0->langchain-openai) (1.9.0)\n",
      "Requirement already satisfied: httpx<1,>=0.23.0 in c:\\users\\vaski\\desktop\\langchain-labs\\.conda\\lib\\site-packages (from openai<2.0.0,>=1.32.0->langchain-openai) (0.27.0)\n",
      "Requirement already satisfied: sniffio in c:\\users\\vaski\\desktop\\langchain-labs\\.conda\\lib\\site-packages (from openai<2.0.0,>=1.32.0->langchain-openai) (1.3.1)\n",
      "Requirement already satisfied: tqdm>4 in c:\\users\\vaski\\desktop\\langchain-labs\\.conda\\lib\\site-packages (from openai<2.0.0,>=1.32.0->langchain-openai) (4.66.4)\n",
      "Requirement already satisfied: typing-extensions<5,>=4.7 in c:\\users\\vaski\\desktop\\langchain-labs\\.conda\\lib\\site-packages (from openai<2.0.0,>=1.32.0->langchain-openai) (4.12.2)\n",
      "Requirement already satisfied: annotated-types>=0.4.0 in c:\\users\\vaski\\desktop\\langchain-labs\\.conda\\lib\\site-packages (from pydantic<3,>=1->langchain) (0.7.0)\n",
      "Requirement already satisfied: pydantic-core==2.20.1 in c:\\users\\vaski\\desktop\\langchain-labs\\.conda\\lib\\site-packages (from pydantic<3,>=1->langchain) (2.20.1)\n",
      "Requirement already satisfied: charset-normalizer<4,>=2 in c:\\users\\vaski\\desktop\\langchain-labs\\.conda\\lib\\site-packages (from requests<3,>=2->langchain) (3.3.2)\n",
      "Requirement already satisfied: idna<4,>=2.5 in c:\\users\\vaski\\desktop\\langchain-labs\\.conda\\lib\\site-packages (from requests<3,>=2->langchain) (3.7)\n",
      "Requirement already satisfied: urllib3<3,>=1.21.1 in c:\\users\\vaski\\desktop\\langchain-labs\\.conda\\lib\\site-packages (from requests<3,>=2->langchain) (2.2.2)\n",
      "Requirement already satisfied: certifi>=2017.4.17 in c:\\users\\vaski\\desktop\\langchain-labs\\.conda\\lib\\site-packages (from requests<3,>=2->langchain) (2024.7.4)\n",
      "Requirement already satisfied: greenlet!=0.4.17 in c:\\users\\vaski\\desktop\\langchain-labs\\.conda\\lib\\site-packages (from SQLAlchemy<3,>=1.4->langchain) (3.0.3)\n",
      "Requirement already satisfied: regex>=2022.1.18 in c:\\users\\vaski\\desktop\\langchain-labs\\.conda\\lib\\site-packages (from tiktoken<1,>=0.7->langchain-openai) (2024.5.15)\n",
      "Requirement already satisfied: exceptiongroup>=1.0.2 in c:\\users\\vaski\\desktop\\langchain-labs\\.conda\\lib\\site-packages (from anyio<5,>=3.5.0->openai<2.0.0,>=1.32.0->langchain-openai) (1.2.2)\n",
      "Requirement already satisfied: httpcore==1.* in c:\\users\\vaski\\desktop\\langchain-labs\\.conda\\lib\\site-packages (from httpx<1,>=0.23.0->openai<2.0.0,>=1.32.0->langchain-openai) (1.0.5)\n",
      "Requirement already satisfied: h11<0.15,>=0.13 in c:\\users\\vaski\\desktop\\langchain-labs\\.conda\\lib\\site-packages (from httpcore==1.*->httpx<1,>=0.23.0->openai<2.0.0,>=1.32.0->langchain-openai) (0.14.0)\n",
      "Requirement already satisfied: jsonpointer>=1.9 in c:\\users\\vaski\\desktop\\langchain-labs\\.conda\\lib\\site-packages (from jsonpatch<2.0,>=1.33->langchain-core<0.3.0,>=0.2.22->langchain) (3.0.0)\n",
      "Requirement already satisfied: colorama in c:\\users\\vaski\\desktop\\langchain-labs\\.conda\\lib\\site-packages (from tqdm>4->openai<2.0.0,>=1.32.0->langchain-openai) (0.4.6)\n",
      "Note: you may need to restart the kernel to use updated packages.\n"
     ]
    }
   ],
   "source": [
    "%pip install langchain langchain-openai python-dotenv"
   ]
  },
  {
   "cell_type": "code",
   "execution_count": 2,
   "metadata": {},
   "outputs": [],
   "source": [
    "# Import required libraries\n",
    "import os\n",
    "from dotenv import load_dotenv\n",
    "from langchain_openai import ChatOpenAI\n",
    "from langchain.prompts import ChatPromptTemplate"
   ]
  },
  {
   "cell_type": "code",
   "execution_count": 3,
   "metadata": {},
   "outputs": [
    {
     "name": "stdout",
     "output_type": "stream",
     "text": [
      "OpenAI API key found in environment variables.\n"
     ]
    }
   ],
   "source": [
    "# Load the OpenAI API key from the environment variables\n",
    "load_dotenv()\n",
    "if \"OPENAI_API_KEY\" not in os.environ:\n",
    "    # If the key is not found in the environment variables, try to get it from Google Colab userdata\n",
    "    from google.colab import userdata\n",
    "    os.environ[\"OPENAI_API_KEY\"] = userdata.get('OPENAI_API_KEY')\n",
    "    if os.environ[\"OPENAI_API_KEY\"] is None:\n",
    "        print(\"OPENAI_API_KEY not found in environment variables or Google Colab userdata.\")\n",
    "else:\n",
    "    print(\"OpenAI API key found in environment variables.\")"
   ]
  },
  {
   "cell_type": "code",
   "execution_count": 4,
   "metadata": {},
   "outputs": [
    {
     "name": "stdout",
     "output_type": "stream",
     "text": [
      "Hello, world of LangChain! 🌍✨ LangChain is an exciting framework designed to facilitate the development of applications that leverage large language models (LLMs). Whether you're building chatbots, document analysis tools, or any other AI-driven application, LangChain provides the tools and components to streamline the process. Let's explore the possibilities together! What aspect of LangChain are you most interested in?\n"
     ]
    }
   ],
   "source": [
    "# Initialize our language model\n",
    "llm = ChatOpenAI(model=\"gpt-4o-mini\")\n",
    "response = llm.invoke(\"Say hello to the world of LangChain!\")\n",
    "print(response.content)"
   ]
  },
  {
   "cell_type": "markdown",
   "metadata": {},
   "source": [
    "Great! You've just set up your first LangChain environment. \n",
    "\n",
    "**Run this cell, and you should see a friendly greeting from the AI.**\n",
    "\n",
    "Next, we'll explore how to create more structured interactions using PromptTemplates and Chains. Ready to dive deeper?"
   ]
  }
 ],
 "metadata": {
  "kernelspec": {
   "display_name": "cod-langchain",
   "language": "python",
   "name": "python3"
  },
  "language_info": {
   "codemirror_mode": {
    "name": "ipython",
    "version": 3
   },
   "file_extension": ".py",
   "mimetype": "text/x-python",
   "name": "python",
   "nbconvert_exporter": "python",
   "pygments_lexer": "ipython3",
   "version": "3.10.14"
  }
 },
 "nbformat": 4,
 "nbformat_minor": 2
}
